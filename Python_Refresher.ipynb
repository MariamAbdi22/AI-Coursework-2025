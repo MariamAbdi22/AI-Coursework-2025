{
  "nbformat": 4,
  "nbformat_minor": 0,
  "metadata": {
    "colab": {
      "provenance": [],
      "authorship_tag": "ABX9TyOSsSLNT4omMXIBsMeoiLbl",
      "include_colab_link": true
    },
    "kernelspec": {
      "name": "python3",
      "display_name": "Python 3"
    },
    "language_info": {
      "name": "python"
    }
  },
  "cells": [
    {
      "cell_type": "markdown",
      "metadata": {
        "id": "view-in-github",
        "colab_type": "text"
      },
      "source": [
        "<a href=\"https://colab.research.google.com/github/MariamAbdi22/AI-Coursework-2025/blob/main/Python_Refresher.ipynb\" target=\"_parent\"><img src=\"https://colab.research.google.com/assets/colab-badge.svg\" alt=\"Open In Colab\"/></a>"
      ]
    },
    {
      "cell_type": "code",
      "execution_count": null,
      "metadata": {
        "colab": {
          "base_uri": "https://localhost:8080/"
        },
        "id": "C-zqZqYdhN1y",
        "outputId": "17f21d6a-b681-43ff-88fb-afd43e2e24fa"
      },
      "outputs": [
        {
          "output_type": "stream",
          "name": "stdout",
          "text": [
            "Enter number of days: 2\n",
            "The number of seconds in 2 days is 172800\n"
          ]
        }
      ],
      "source": [
        "days = int(input(\"Enter number of days: \"))                  # Asks the user to input the number of days\n",
        "number_of_seconds = 60 * 60 * 24 * days                      # calculates the number of seconds in the given number of days\n",
        "print(\"The number of seconds in\", days, \"days is\", number_of_seconds)"
      ]
    },
    {
      "cell_type": "code",
      "source": [
        "radius = float(input(\"Enter the radius: \"))\n",
        "volume = 4/3 * 22/7 * radius ** 3                                  # calculates the volume of a sphere using the formula 4/3πr3\n",
        "print(\"The volume of the sphere is\", volume, \"cubic centimeters\")\n"
      ],
      "metadata": {
        "colab": {
          "base_uri": "https://localhost:8080/"
        },
        "id": "0awrg78Ui_6k",
        "outputId": "c193cef0-8214-43b2-d394-48215183f645"
      },
      "execution_count": null,
      "outputs": [
        {
          "output_type": "stream",
          "name": "stdout",
          "text": [
            "Enter the radius: 7\n",
            "The volume of the sphere is 1437.3333333333335 cubic centimeters\n"
          ]
        }
      ]
    },
    {
      "cell_type": "code",
      "source": [
        "def calculate(side_length):\n",
        "  area = side_length * side_length    # Formula for getting the area of a square\n",
        "  perimeter = 4 * side_length         #Formula for getting the perimeter of a square\n",
        "  return area, perimeter\n",
        "\n",
        "side_length = int(input(\"Enter the side length of the square: \"))    # Asks the use r to enter the side length of a square\n",
        "area, perimeter = calculate(side_length)                             # Call the calculate function to compute the area and perimeter\n",
        "print(\"The area of the square is\", area)\n",
        "print(\"The perimeter of the square is\", perimeter)\n",
        "\n"
      ],
      "metadata": {
        "colab": {
          "base_uri": "https://localhost:8080/"
        },
        "id": "aedNmk4Qy4n-",
        "outputId": "c487240f-e4ed-4ba9-d38c-7d7d5d040d20"
      },
      "execution_count": null,
      "outputs": [
        {
          "output_type": "stream",
          "name": "stdout",
          "text": [
            "Enter the side length of the square: 5\n",
            "The area of the square is 25\n",
            "The perimeter of the square is 20\n"
          ]
        }
      ]
    },
    {
      "cell_type": "code",
      "source": [
        "def check_character(character):\n",
        "  if character.isupper():                          # Checks if the character input is uppercase\n",
        "    print(\"UPPERCASE\")\n",
        "  else:\n",
        "    if character.islower():                         # Checks if the character input is lowercase\n",
        "      print(\"lowercase\")\n",
        "\n",
        "character = input(\"Enter a single character: \")      # Allows the user to enter a character\n",
        "your_character = check_character(character)          # Calls the check_character function\n"
      ],
      "metadata": {
        "colab": {
          "base_uri": "https://localhost:8080/"
        },
        "id": "lc8cOt017cMU",
        "outputId": "266d5713-b886-486a-ed2a-4382c086d4a1"
      },
      "execution_count": null,
      "outputs": [
        {
          "output_type": "stream",
          "name": "stdout",
          "text": [
            "Enter a single character: Y\n",
            "UPPERCASE\n"
          ]
        }
      ]
    },
    {
      "cell_type": "code",
      "source": [
        "x = 0\n",
        "y = 20\n",
        "while True:                   # An infinite loop\n",
        "  y -= 4                      # subtract 4 from y\n",
        "  x += 2/y                    # Add 2/y to x\n",
        "  if y < 6:                   # stop when y is less than 6\n",
        "    break\n",
        "print(x)                      # display the result\n",
        "\n"
      ],
      "metadata": {
        "colab": {
          "base_uri": "https://localhost:8080/"
        },
        "id": "C6l7Y1wQ_pnM",
        "outputId": "c79c8ab7-7a65-43d6-d32c-a5c90222e3b7"
      },
      "execution_count": null,
      "outputs": [
        {
          "output_type": "stream",
          "name": "stdout",
          "text": [
            "1.0416666666666665\n"
          ]
        }
      ]
    },
    {
      "cell_type": "code",
      "source": [
        "values = []                                                #initialize an empty array\n",
        "\n",
        "for i in range(5):                                        #Loop to get five inputs from the user\n",
        "  number = float(input(f\"Enter value {i + 1}: \" ))\n",
        "  values.append(number)                                   #Method that adds a single element at the end of the array\n",
        "\n",
        "average = sum(values) / len(values)                       #calculate the average\n",
        "print(\"The values input are:\", values)\n",
        "print(\"The average is\", average)\n"
      ],
      "metadata": {
        "colab": {
          "base_uri": "https://localhost:8080/"
        },
        "id": "5FfM7oiqEkNA",
        "outputId": "d3ecf8dc-b748-432b-cce4-2433e18699e1"
      },
      "execution_count": null,
      "outputs": [
        {
          "output_type": "stream",
          "name": "stdout",
          "text": [
            "Enter value 1: 2\n",
            "Enter value 2: 3\n",
            "Enter value 3: 4\n",
            "Enter value 4: 5\n",
            "Enter value 5: 6\n",
            "The values input are: [2.0, 3.0, 4.0, 5.0, 6.0]\n",
            "The average is 4.0\n"
          ]
        }
      ]
    }
  ]
}